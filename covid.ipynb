{
 "cells": [
  {
   "cell_type": "code",
   "execution_count": 1,
   "metadata": {},
   "outputs": [
    {
     "name": "stderr",
     "output_type": "stream",
     "text": [
      "Using TensorFlow backend.\n"
     ]
    }
   ],
   "source": [
    "from tensorflow.keras.preprocessing.image import ImageDataGenerator\n",
    "import tensorflow as tf\n",
    "from tensorflow.keras.optimizers import RMSprop\n",
    "from keras.preprocessing import image\n",
    "import numpy as np\n",
    "import pandas as pd\n",
    "import os\n"
   ]
  },
  {
   "cell_type": "code",
   "execution_count": 2,
   "metadata": {},
   "outputs": [],
   "source": [
    "class myCallback(tf.keras.callbacks.Callback): \n",
    "    def on_epoch_end(self, epoch, logs={}): \n",
    "        if(logs.get('acc') > 0.98):   \n",
    "            print(\"\\nReached %2.2f%% accuracy, so stopping training!!\" %(0.98*100))   \n",
    "            self.model.stop_training = True\n",
    "callback= myCallback()"
   ]
  },
  {
   "cell_type": "code",
   "execution_count": 3,
   "metadata": {},
   "outputs": [
    {
     "name": "stdout",
     "output_type": "stream",
     "text": [
      "Found 5503 images belonging to 4 classes.\n",
      "Found 600 images belonging to 4 classes.\n"
     ]
    }
   ],
   "source": [
    "train_datagen = ImageDataGenerator(rescale=1./255)\n",
    "train_generator = train_datagen.flow_from_directory(\n",
    "    directory = \"../data/train\",\n",
    "    target_size=(150, 150),\n",
    "    batch_size=8,\n",
    "    class_mode=\"categorical\")\n",
    "\n",
    "\n",
    "validation_datagen = ImageDataGenerator(rescale=1./255)\n",
    "validation_generator = validation_datagen.flow_from_directory(\n",
    "    directory = '../data/test/',\n",
    "    target_size=(150, 150),\n",
    "    batch_size=32,\n",
    "    class_mode='categorical')"
   ]
  },
  {
   "cell_type": "code",
   "execution_count": 4,
   "metadata": {},
   "outputs": [
    {
     "name": "stdout",
     "output_type": "stream",
     "text": [
      "WARNING:tensorflow:From D:\\Program Files\\Anaconda\\lib\\site-packages\\tensorflow\\python\\ops\\resource_variable_ops.py:435: colocate_with (from tensorflow.python.framework.ops) is deprecated and will be removed in a future version.\n",
      "Instructions for updating:\n",
      "Colocations handled automatically by placer.\n"
     ]
    }
   ],
   "source": [
    "model = tf.keras.models.Sequential([\n",
    "    # Note the input shape is the desired size of the image 300x300 with 3 bytes color\n",
    "    # This is the first convolution\n",
    "    tf.keras.layers.Conv2D(16, (3,3), activation='relu', input_shape=(150, 150, 3)),\n",
    "    tf.keras.layers.MaxPooling2D(2, 2),\n",
    "    # The second convolution\n",
    "    tf.keras.layers.Conv2D(32, (3,3), activation='relu'),\n",
    "    tf.keras.layers.MaxPooling2D(2,2),\n",
    "    # The third convolution\n",
    "    tf.keras.layers.Conv2D(64, (3,3), activation='relu'),\n",
    "    tf.keras.layers.MaxPooling2D(2,2),\n",
    "    # The fourth convolution\n",
    "    tf.keras.layers.Conv2D(64, (3,3), activation='relu'),\n",
    "    tf.keras.layers.MaxPooling2D(2,2),\n",
    "    # The fifth convolution\n",
    "    tf.keras.layers.Conv2D(64, (3,3), activation='relu'),\n",
    "    tf.keras.layers.MaxPooling2D(2,2),\n",
    "    # Flatten the results to feed into a DNN\n",
    "    tf.keras.layers.Flatten(),\n",
    "    # 512 neuron hidden layer\n",
    "    tf.keras.layers.Dense(512, activation='relu'),\n",
    "\n",
    "    tf.keras.layers.Dense(4, activation='sigmoid')\n",
    "])"
   ]
  },
  {
   "cell_type": "code",
   "execution_count": 5,
   "metadata": {},
   "outputs": [
    {
     "name": "stdout",
     "output_type": "stream",
     "text": [
      "WARNING:tensorflow:From D:\\Program Files\\Anaconda\\lib\\site-packages\\tensorflow\\python\\keras\\utils\\losses_utils.py:170: to_float (from tensorflow.python.ops.math_ops) is deprecated and will be removed in a future version.\n",
      "Instructions for updating:\n",
      "Use tf.cast instead.\n"
     ]
    }
   ],
   "source": [
    "model.compile(loss='mean_squared_error',\n",
    "              optimizer=RMSprop(lr=0.001),\n",
    "              metrics=['acc'])"
   ]
  },
  {
   "cell_type": "code",
   "execution_count": 6,
   "metadata": {},
   "outputs": [
    {
     "name": "stdout",
     "output_type": "stream",
     "text": [
      "WARNING:tensorflow:From D:\\Program Files\\Anaconda\\lib\\site-packages\\tensorflow\\python\\ops\\math_ops.py:3066: to_int32 (from tensorflow.python.ops.math_ops) is deprecated and will be removed in a future version.\n",
      "Instructions for updating:\n",
      "Use tf.cast instead.\n",
      "Epoch 1/20\n",
      "19/19 [==============================] - 13s 678ms/step - loss: 0.1261 - acc: 0.6200\n",
      "688/688 [==============================] - 186s 270ms/step - loss: 0.1256 - acc: 0.6260 - val_loss: 0.1261 - val_acc: 0.6200\n",
      "Epoch 2/20\n",
      "19/19 [==============================] - 13s 689ms/step - loss: 0.1195 - acc: 0.6733\n",
      "688/688 [==============================] - 193s 281ms/step - loss: 0.0858 - acc: 0.7583 - val_loss: 0.1195 - val_acc: 0.6733\n",
      "Epoch 3/20\n",
      "19/19 [==============================] - 13s 706ms/step - loss: 0.1351 - acc: 0.6500\n",
      "688/688 [==============================] - 199s 290ms/step - loss: 0.0786 - acc: 0.7770 - val_loss: 0.1351 - val_acc: 0.6500\n",
      "Epoch 4/20\n",
      "19/19 [==============================] - 11s 598ms/step - loss: 0.1280 - acc: 0.6667\n",
      "688/688 [==============================] - 184s 267ms/step - loss: 0.0745 - acc: 0.7878 - val_loss: 0.1280 - val_acc: 0.6667\n",
      "Epoch 5/20\n",
      "19/19 [==============================] - 11s 572ms/step - loss: 0.1309 - acc: 0.6550\n",
      "688/688 [==============================] - 158s 230ms/step - loss: 0.0703 - acc: 0.8007 - val_loss: 0.1309 - val_acc: 0.6550\n",
      "Epoch 6/20\n",
      "19/19 [==============================] - 11s 573ms/step - loss: 0.0956 - acc: 0.7467\n",
      "688/688 [==============================] - 158s 230ms/step - loss: 0.0669 - acc: 0.8181 - val_loss: 0.0956 - val_acc: 0.7467\n",
      "Epoch 7/20\n",
      "19/19 [==============================] - 11s 572ms/step - loss: 0.1251 - acc: 0.6783\n",
      "688/688 [==============================] - 159s 231ms/step - loss: 0.0640 - acc: 0.8274 - val_loss: 0.1251 - val_acc: 0.6783\n",
      "Epoch 8/20\n",
      "19/19 [==============================] - 11s 588ms/step - loss: 0.1110 - acc: 0.7133\n",
      "688/688 [==============================] - 159s 232ms/step - loss: 0.0612 - acc: 0.8317 - val_loss: 0.1110 - val_acc: 0.7133\n",
      "Epoch 9/20\n",
      "19/19 [==============================] - 11s 574ms/step - loss: 0.1416 - acc: 0.6483\n",
      "688/688 [==============================] - 159s 231ms/step - loss: 0.0579 - acc: 0.8432 - val_loss: 0.1416 - val_acc: 0.6483\n",
      "Epoch 10/20\n",
      "19/19 [==============================] - 11s 575ms/step - loss: 0.1304 - acc: 0.6517\n",
      "688/688 [==============================] - 160s 232ms/step - loss: 0.0561 - acc: 0.8495 - val_loss: 0.1304 - val_acc: 0.6517\n",
      "Epoch 11/20\n",
      "19/19 [==============================] - 11s 591ms/step - loss: 0.1305 - acc: 0.6817\n",
      "688/688 [==============================] - 159s 231ms/step - loss: 0.0521 - acc: 0.8604 - val_loss: 0.1305 - val_acc: 0.6817\n",
      "Epoch 12/20\n",
      "19/19 [==============================] - 11s 575ms/step - loss: 0.1278 - acc: 0.6650\n",
      "688/688 [==============================] - 161s 234ms/step - loss: 0.0502 - acc: 0.8710 - val_loss: 0.1278 - val_acc: 0.6650\n",
      "Epoch 13/20\n",
      "19/19 [==============================] - 11s 569ms/step - loss: 0.1541 - acc: 0.6200\n",
      "688/688 [==============================] - 159s 231ms/step - loss: 0.0494 - acc: 0.8706 - val_loss: 0.1541 - val_acc: 0.6200\n",
      "Epoch 14/20\n",
      "19/19 [==============================] - 11s 580ms/step - loss: 0.1227 - acc: 0.6983\n",
      "688/688 [==============================] - 159s 231ms/step - loss: 0.0473 - acc: 0.8770 - val_loss: 0.1227 - val_acc: 0.6983\n",
      "Epoch 15/20\n",
      "19/19 [==============================] - 11s 586ms/step - loss: 0.1248 - acc: 0.6900\n",
      "688/688 [==============================] - 160s 233ms/step - loss: 0.0458 - acc: 0.8799 - val_loss: 0.1248 - val_acc: 0.6900\n",
      "Epoch 16/20\n",
      "19/19 [==============================] - 11s 576ms/step - loss: 0.1182 - acc: 0.7117\n",
      "688/688 [==============================] - 159s 231ms/step - loss: 0.0438 - acc: 0.8864 - val_loss: 0.1182 - val_acc: 0.7117\n",
      "Epoch 17/20\n",
      "19/19 [==============================] - 11s 577ms/step - loss: 0.1466 - acc: 0.6617\n",
      "688/688 [==============================] - 159s 231ms/step - loss: 0.0392 - acc: 0.9004 - val_loss: 0.1466 - val_acc: 0.6617\n",
      "Epoch 18/20\n",
      "19/19 [==============================] - 11s 580ms/step - loss: 0.1432 - acc: 0.6650\n",
      "688/688 [==============================] - 161s 233ms/step - loss: 0.0398 - acc: 0.9004 - val_loss: 0.1432 - val_acc: 0.6650\n",
      "Epoch 19/20\n",
      "19/19 [==============================] - 11s 575ms/step - loss: 0.1280 - acc: 0.7017\n",
      "688/688 [==============================] - 160s 233ms/step - loss: 0.0381 - acc: 0.9071 - val_loss: 0.1280 - val_acc: 0.7017\n",
      "Epoch 20/20\n",
      "19/19 [==============================] - 11s 591ms/step - loss: 0.1404 - acc: 0.6833\n",
      "688/688 [==============================] - 160s 232ms/step - loss: 0.0388 - acc: 0.9068 - val_loss: 0.1404 - val_acc: 0.6833\n"
     ]
    },
    {
     "data": {
      "text/plain": [
       "<tensorflow.python.keras.callbacks.History at 0x24c16550400>"
      ]
     },
     "execution_count": 6,
     "metadata": {},
     "output_type": "execute_result"
    }
   ],
   "source": [
    "model.fit_generator(\n",
    "    train_generator,\n",
    "    steps_per_epoch=100,\n",
    "    epochs=20,\n",
    "    validation_data=validation_generator,\n",
    "    validation_steps=100,\n",
    "    callbacks=[callback]) # callbacks=[callback] (use it in the fit_generator)"
   ]
  },
  {
   "cell_type": "code",
   "execution_count": 7,
   "metadata": {},
   "outputs": [
    {
     "data": {
      "text/plain": [
       "[0.14167327767139987, 0.68333334]"
      ]
     },
     "execution_count": 7,
     "metadata": {},
     "output_type": "execute_result"
    }
   ],
   "source": [
    "evaluate=model.evaluate_generator(generator=validation_generator,steps=300)\n",
    "evaluate"
   ]
  },
  {
   "cell_type": "code",
   "execution_count": 8,
   "metadata": {},
   "outputs": [],
   "source": [
    "def find_class(result_list):\n",
    "    if result_list[0] == 1 :\n",
    "        return \"Bacteria\"\n",
    "    elif result_list[1] == 1 : \n",
    "        return \"Covid\"\n",
    "    elif result_list[2] == 1 : \n",
    "        return \"Normal\"\n",
    "    elif result_list[3] == 1 : \n",
    "        return \"Virus\"\n",
    "    else:\n",
    "        return \"Sınıf Tespit edilemedi\""
   ]
  },
  {
   "cell_type": "code",
   "execution_count": 10,
   "metadata": {},
   "outputs": [
    {
     "name": "stdout",
     "output_type": "stream",
     "text": [
      "COVID-19 (1).png\n",
      "Tahmin = Virus\n",
      "XXXXXXXXXXXXXXXXXXXXXXXXXXX\n",
      "COVID-19 (10).png\n",
      "Tahmin = Sınıf Tespit edilemedi\n",
      "XXXXXXXXXXXXXXXXXXXXXXXXXXX\n",
      "COVID-19 (100).png\n",
      "Tahmin = Sınıf Tespit edilemedi\n",
      "XXXXXXXXXXXXXXXXXXXXXXXXXXX\n",
      "COVID-19 (104).png\n",
      "Tahmin = Sınıf Tespit edilemedi\n",
      "XXXXXXXXXXXXXXXXXXXXXXXXXXX\n",
      "COVID-19 (11).png\n",
      "Tahmin = Virus\n",
      "XXXXXXXXXXXXXXXXXXXXXXXXXXX\n",
      "COVID-19 (12).png\n",
      "Tahmin = Bacteria\n",
      "XXXXXXXXXXXXXXXXXXXXXXXXXXX\n",
      "COVID-19 (13).png\n",
      "Tahmin = Sınıf Tespit edilemedi\n",
      "XXXXXXXXXXXXXXXXXXXXXXXXXXX\n",
      "COVID-19 (14).png\n",
      "Tahmin = Sınıf Tespit edilemedi\n",
      "XXXXXXXXXXXXXXXXXXXXXXXXXXX\n",
      "COVID-19 (15).png\n",
      "Tahmin = Sınıf Tespit edilemedi\n",
      "XXXXXXXXXXXXXXXXXXXXXXXXXXX\n",
      "COVID-19 (16).png\n",
      "Tahmin = Bacteria\n",
      "XXXXXXXXXXXXXXXXXXXXXXXXXXX\n",
      "COVID-19 (17).png\n",
      "Tahmin = Virus\n",
      "XXXXXXXXXXXXXXXXXXXXXXXXXXX\n",
      "COVID-19 (18).png\n",
      "Tahmin = Covid\n",
      "XXXXXXXXXXXXXXXXXXXXXXXXXXX\n",
      "COVID-19 (19).png\n",
      "Tahmin = Sınıf Tespit edilemedi\n",
      "XXXXXXXXXXXXXXXXXXXXXXXXXXX\n",
      "COVID-19 (2).png\n",
      "Tahmin = Normal\n",
      "XXXXXXXXXXXXXXXXXXXXXXXXXXX\n",
      "COVID-19 (20).png\n",
      "Tahmin = Covid\n",
      "XXXXXXXXXXXXXXXXXXXXXXXXXXX\n",
      "COVID-19 (21).png\n",
      "Tahmin = Virus\n",
      "XXXXXXXXXXXXXXXXXXXXXXXXXXX\n",
      "COVID-19 (22).png\n",
      "Tahmin = Sınıf Tespit edilemedi\n",
      "XXXXXXXXXXXXXXXXXXXXXXXXXXX\n",
      "COVID-19 (23).png\n",
      "Tahmin = Sınıf Tespit edilemedi\n",
      "XXXXXXXXXXXXXXXXXXXXXXXXXXX\n",
      "COVID-19 (24).png\n",
      "Tahmin = Normal\n",
      "XXXXXXXXXXXXXXXXXXXXXXXXXXX\n",
      "COVID-19 (3).png\n",
      "Tahmin = Virus\n",
      "XXXXXXXXXXXXXXXXXXXXXXXXXXX\n",
      "COVID-19 (4).png\n",
      "Tahmin = Virus\n",
      "XXXXXXXXXXXXXXXXXXXXXXXXXXX\n",
      "COVID-19 (5).png\n",
      "Tahmin = Normal\n",
      "XXXXXXXXXXXXXXXXXXXXXXXXXXX\n",
      "COVID-19 (6).png\n",
      "Tahmin = Bacteria\n",
      "XXXXXXXXXXXXXXXXXXXXXXXXXXX\n",
      "COVID-19 (7).png\n",
      "Tahmin = Virus\n",
      "XXXXXXXXXXXXXXXXXXXXXXXXXXX\n",
      "COVID-19 (8).png\n",
      "Tahmin = Sınıf Tespit edilemedi\n",
      "XXXXXXXXXXXXXXXXXXXXXXXXXXX\n",
      "COVID-19 (9).png\n",
      "Tahmin = Normal\n",
      "XXXXXXXXXXXXXXXXXXXXXXXXXXX\n",
      "NORMAL (1).png\n",
      "Tahmin = Normal\n",
      "XXXXXXXXXXXXXXXXXXXXXXXXXXX\n",
      "NORMAL (100).png\n",
      "Tahmin = Normal\n",
      "XXXXXXXXXXXXXXXXXXXXXXXXXXX\n",
      "NORMAL (1006).png\n",
      "Tahmin = Normal\n",
      "XXXXXXXXXXXXXXXXXXXXXXXXXXX\n",
      "NORMAL (1009).png\n",
      "Tahmin = Normal\n",
      "XXXXXXXXXXXXXXXXXXXXXXXXXXX\n",
      "NORMAL (1013).png\n",
      "Tahmin = Normal\n",
      "XXXXXXXXXXXXXXXXXXXXXXXXXXX\n",
      "Viral Pneumonia (10).png\n",
      "Tahmin = Virus\n",
      "XXXXXXXXXXXXXXXXXXXXXXXXXXX\n",
      "Viral Pneumonia (1001).png\n",
      "Tahmin = Sınıf Tespit edilemedi\n",
      "XXXXXXXXXXXXXXXXXXXXXXXXXXX\n",
      "Viral Pneumonia (1006).png\n",
      "Tahmin = Virus\n",
      "XXXXXXXXXXXXXXXXXXXXXXXXXXX\n",
      "Viral Pneumonia (1008).png\n",
      "Tahmin = Virus\n",
      "XXXXXXXXXXXXXXXXXXXXXXXXXXX\n",
      "Viral Pneumonia (1020).png\n",
      "Tahmin = Bacteria\n",
      "XXXXXXXXXXXXXXXXXXXXXXXXXXX\n"
     ]
    }
   ],
   "source": [
    "basepath = '../data/predict/'\n",
    "for entry in os.listdir(basepath):\n",
    "    if os.path.isfile(os.path.join(basepath, entry)):\n",
    "        print(entry)\n",
    "        img = image.load_img(os.path.join(basepath, entry), target_size=(150, 150))\n",
    "        x = image.img_to_array(img)\n",
    "        x = np.expand_dims(x, axis=0)\n",
    "\n",
    "        images = np.vstack([x])\n",
    "        classes = model.predict(images, batch_size=10)\n",
    "        print(\"Tahmin = \" + find_class(classes[0]))\n",
    "        print(\"XXXXXXXXXXXXXXXXXXXXXXXXXXX\")\n",
    "        "
   ]
  },
  {
   "cell_type": "code",
   "execution_count": null,
   "metadata": {},
   "outputs": [],
   "source": []
  }
 ],
 "metadata": {
  "kernelspec": {
   "display_name": "Python 3",
   "language": "python",
   "name": "python3"
  },
  "language_info": {
   "codemirror_mode": {
    "name": "ipython",
    "version": 3
   },
   "file_extension": ".py",
   "mimetype": "text/x-python",
   "name": "python",
   "nbconvert_exporter": "python",
   "pygments_lexer": "ipython3",
   "version": "3.7.3"
  }
 },
 "nbformat": 4,
 "nbformat_minor": 4
}
